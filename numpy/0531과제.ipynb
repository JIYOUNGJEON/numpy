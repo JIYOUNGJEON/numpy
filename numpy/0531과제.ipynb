{
 "metadata": {
  "language_info": {
   "codemirror_mode": {
    "name": "ipython",
    "version": 3
   },
   "file_extension": ".py",
   "mimetype": "text/x-python",
   "name": "python",
   "nbconvert_exporter": "python",
   "pygments_lexer": "ipython3",
   "version": "3.8.5"
  },
  "orig_nbformat": 2,
  "kernelspec": {
   "name": "python385jvsc74a57bd08c1eae21719a0790335dcb83aad72b63b602cfe5cdb2bda0f60bc11d4f154e4b",
   "display_name": "Python 3.8.5 64-bit ('base': conda)"
  }
 },
 "nbformat": 4,
 "nbformat_minor": 2,
 "cells": [
  {
   "cell_type": "code",
   "execution_count": 3,
   "metadata": {},
   "outputs": [],
   "source": [
    "import numpy as np"
   ]
  },
  {
   "cell_type": "code",
   "execution_count": 4,
   "metadata": {},
   "outputs": [
    {
     "output_type": "execute_result",
     "data": {
      "text/plain": [
       "array([[10, 20, 30, 40],\n",
       "       [50, 60, 70, 80]])"
      ]
     },
     "metadata": {},
     "execution_count": 4
    }
   ],
   "source": [
    "#1\n",
    "a = np.array([10,20,30,40,50,60,70,80]).reshape(2,4)\n",
    "a"
   ]
  },
  {
   "cell_type": "code",
   "execution_count": 5,
   "metadata": {},
   "outputs": [
    {
     "output_type": "execute_result",
     "data": {
      "text/plain": [
       "array([[ 0,  1,  2,  3,  4],\n",
       "       [ 5,  6,  7,  8,  9],\n",
       "       [10, 11, 12, 13, 14]])"
      ]
     },
     "metadata": {},
     "execution_count": 5
    }
   ],
   "source": [
    "#2\n",
    "m = np.arange(15).reshape(3,5)\n",
    "m"
   ]
  },
  {
   "cell_type": "code",
   "execution_count": 6,
   "metadata": {},
   "outputs": [
    {
     "output_type": "execute_result",
     "data": {
      "text/plain": [
       "7"
      ]
     },
     "metadata": {},
     "execution_count": 6
    }
   ],
   "source": [
    "#2-1\n",
    "m[1,2]"
   ]
  },
  {
   "cell_type": "code",
   "execution_count": 7,
   "metadata": {},
   "outputs": [
    {
     "output_type": "execute_result",
     "data": {
      "text/plain": [
       "14"
      ]
     },
     "metadata": {},
     "execution_count": 7
    }
   ],
   "source": [
    "#2-2\n",
    "m[2,4]"
   ]
  },
  {
   "cell_type": "code",
   "execution_count": 8,
   "metadata": {},
   "outputs": [
    {
     "output_type": "execute_result",
     "data": {
      "text/plain": [
       "array([[6, 7]])"
      ]
     },
     "metadata": {},
     "execution_count": 8
    }
   ],
   "source": [
    "#2-3\n",
    "m[1:2,1:3]"
   ]
  },
  {
   "cell_type": "code",
   "execution_count": 9,
   "metadata": {},
   "outputs": [
    {
     "output_type": "execute_result",
     "data": {
      "text/plain": [
       "array([[ 7],\n",
       "       [12]])"
      ]
     },
     "metadata": {},
     "execution_count": 9
    }
   ],
   "source": [
    "#2-4\n",
    "m[1:3,2:3]\n"
   ]
  },
  {
   "cell_type": "code",
   "execution_count": 10,
   "metadata": {},
   "outputs": [
    {
     "output_type": "execute_result",
     "data": {
      "text/plain": [
       "array([ 7, 12])"
      ]
     },
     "metadata": {},
     "execution_count": 10
    }
   ],
   "source": [
    "m[1:,2]"
   ]
  },
  {
   "cell_type": "code",
   "execution_count": 126,
   "metadata": {},
   "outputs": [
    {
     "output_type": "execute_result",
     "data": {
      "text/plain": [
       "[array([[3, 4]]), array([[8, 9]])]"
      ]
     },
     "metadata": {},
     "execution_count": 126
    }
   ],
   "source": [
    "#2-5\n",
    "[m[0:1,3:5],m[1:2,3:5]]"
   ]
  },
  {
   "cell_type": "code",
   "execution_count": 129,
   "metadata": {},
   "outputs": [],
   "source": [
    "# 3\n",
    "f = m.flatten()"
   ]
  },
  {
   "cell_type": "code",
   "execution_count": 147,
   "metadata": {},
   "outputs": [
    {
     "output_type": "execute_result",
     "data": {
      "text/plain": [
       "array([ True, False, False,  True, False, False,  True, False, False,\n",
       "        True, False, False,  True, False, False])"
      ]
     },
     "metadata": {},
     "execution_count": 147
    }
   ],
   "source": [
    "f%3==0"
   ]
  },
  {
   "cell_type": "code",
   "execution_count": 148,
   "metadata": {},
   "outputs": [
    {
     "output_type": "execute_result",
     "data": {
      "text/plain": [
       "array([ 0,  3,  6,  9, 12])"
      ]
     },
     "metadata": {},
     "execution_count": 148
    }
   ],
   "source": [
    "#3-1\n",
    "f[f%3==0]"
   ]
  },
  {
   "cell_type": "code",
   "execution_count": 150,
   "metadata": {},
   "outputs": [
    {
     "output_type": "execute_result",
     "data": {
      "text/plain": [
       "array([False,  True, False, False, False,  True, False, False, False,\n",
       "        True, False, False, False,  True, False])"
      ]
     },
     "metadata": {},
     "execution_count": 150
    }
   ],
   "source": [
    "f%4==1"
   ]
  },
  {
   "cell_type": "code",
   "execution_count": 151,
   "metadata": {},
   "outputs": [
    {
     "output_type": "execute_result",
     "data": {
      "text/plain": [
       "array([ 1,  5,  9, 13])"
      ]
     },
     "metadata": {},
     "execution_count": 151
    }
   ],
   "source": [
    "#3-2\n",
    "f[f%4==1]"
   ]
  },
  {
   "cell_type": "code",
   "execution_count": 157,
   "metadata": {},
   "outputs": [
    {
     "output_type": "execute_result",
     "data": {
      "text/plain": [
       "(array([ True, False, False,  True, False, False,  True, False, False,\n",
       "         True, False, False,  True, False, False]),\n",
       " array([False,  True, False, False, False,  True, False, False, False,\n",
       "         True, False, False, False,  True, False]))"
      ]
     },
     "metadata": {},
     "execution_count": 157
    }
   ],
   "source": [
    "#3-3\n",
    "f%3==0, f%4==1"
   ]
  },
  {
   "cell_type": "code",
   "execution_count": null,
   "metadata": {},
   "outputs": [],
   "source": [
    "f[np.logical_and]"
   ]
  },
  {
   "cell_type": "code",
   "execution_count": 163,
   "metadata": {},
   "outputs": [
    {
     "output_type": "execute_result",
     "data": {
      "text/plain": [
       "array([[1., 0., 0., 0., 0.],\n",
       "       [0., 1., 0., 0., 0.],\n",
       "       [0., 0., 1., 0., 0.],\n",
       "       [0., 0., 0., 1., 0.],\n",
       "       [0., 0., 0., 0., 1.]])"
      ]
     },
     "metadata": {},
     "execution_count": 163
    }
   ],
   "source": [
    "#4\n",
    "np.eye(5,5, k=-1)*3"
   ]
  },
  {
   "cell_type": "code",
   "execution_count": 171,
   "metadata": {},
   "outputs": [
    {
     "output_type": "execute_result",
     "data": {
      "text/plain": [
       "array([[9, 1, 5, 8, 3, 2],\n",
       "       [5, 5, 9, 6, 4, 3],\n",
       "       [7, 4, 2, 8, 3, 8],\n",
       "       [7, 6, 1, 9, 5, 1],\n",
       "       [0, 4, 2, 3, 4, 1]])"
      ]
     },
     "metadata": {},
     "execution_count": 171
    }
   ],
   "source": [
    "#5\n",
    "c = np.random.randint(0,10,size =(5,6))\n",
    "c"
   ]
  },
  {
   "cell_type": "code",
   "execution_count": 175,
   "metadata": {},
   "outputs": [
    {
     "output_type": "execute_result",
     "data": {
      "text/plain": [
       "9"
      ]
     },
     "metadata": {},
     "execution_count": 175
    }
   ],
   "source": [
    "#5-1\n",
    "np.max(c)"
   ]
  },
  {
   "cell_type": "code",
   "execution_count": 176,
   "metadata": {},
   "outputs": [
    {
     "output_type": "execute_result",
     "data": {
      "text/plain": [
       "array([28, 32, 32, 29, 14])"
      ]
     },
     "metadata": {},
     "execution_count": 176
    }
   ],
   "source": [
    "#5-2\n",
    "c.sum(axis=1)"
   ]
  },
  {
   "cell_type": "code",
   "execution_count": 177,
   "metadata": {},
   "outputs": [
    {
     "output_type": "execute_result",
     "data": {
      "text/plain": [
       "array([9, 9, 8, 9, 4])"
      ]
     },
     "metadata": {},
     "execution_count": 177
    }
   ],
   "source": [
    "#5-3\n",
    "c.max(axis=1)"
   ]
  },
  {
   "cell_type": "code",
   "execution_count": 178,
   "metadata": {},
   "outputs": [
    {
     "output_type": "execute_result",
     "data": {
      "text/plain": [
       "array([5.6, 4. , 3.8, 6.8, 3.8, 3. ])"
      ]
     },
     "metadata": {},
     "execution_count": 178
    }
   ],
   "source": [
    "#5-4\n",
    "c.mean(axis=0)"
   ]
  },
  {
   "cell_type": "code",
   "execution_count": 179,
   "metadata": {},
   "outputs": [
    {
     "output_type": "execute_result",
     "data": {
      "text/plain": [
       "array([0, 1, 1, 3, 3, 1])"
      ]
     },
     "metadata": {},
     "execution_count": 179
    }
   ],
   "source": [
    "#5-5\n",
    "c.min(axis=0)"
   ]
  },
  {
   "cell_type": "code",
   "execution_count": 187,
   "metadata": {},
   "outputs": [
    {
     "output_type": "execute_result",
     "data": {
      "text/plain": [
       "array([[  1,   2,   3,   4],\n",
       "       [ 46,  99, 100,  71],\n",
       "       [ 81,  59,  90, 100]])"
      ]
     },
     "metadata": {},
     "execution_count": 187
    }
   ],
   "source": [
    "#6\n",
    "d = np.array([1,2,3,4,46,99,100,71,81,59,90,100]).reshape(3,4)\n",
    "d"
   ]
  },
  {
   "cell_type": "code",
   "execution_count": 193,
   "metadata": {},
   "outputs": [
    {
     "output_type": "execute_result",
     "data": {
      "text/plain": [
       "array([[  1,   2,   3,   4],\n",
       "       [ 46,  99, 100,  71],\n",
       "       [ 81,  59,  90, 100]])"
      ]
     },
     "metadata": {},
     "execution_count": 193
    }
   ],
   "source": [
    "num = np.array([1,2,3,4]).reshape(1,4)\n",
    "eng = np.array([46,99,100,71]).reshape(1,4)\n",
    "mat = np.array([81,59,90,100]).reshape(1,4)\n",
    "d = np.vstack((num,eng,mat))\n",
    "d"
   ]
  },
  {
   "cell_type": "code",
   "execution_count": 206,
   "metadata": {},
   "outputs": [
    {
     "output_type": "execute_result",
     "data": {
      "text/plain": [
       "array([[  1,   4,   2,   3],\n",
       "       [ 46,  71,  99, 100],\n",
       "       [ 81, 100,  59,  90]])"
      ]
     },
     "metadata": {},
     "execution_count": 206
    }
   ],
   "source": [
    "#6\n",
    "d1 = d[:,d[1].argsort()]\n",
    "d1"
   ]
  },
  {
   "cell_type": "code",
   "execution_count": 18,
   "metadata": {},
   "outputs": [
    {
     "output_type": "error",
     "ename": "NameError",
     "evalue": "name 'd' is not defined",
     "traceback": [
      "\u001b[1;31m---------------------------------------------------------------------------\u001b[0m",
      "\u001b[1;31mNameError\u001b[0m                                 Traceback (most recent call last)",
      "\u001b[1;32m<ipython-input-18-9e441a5de98c>\u001b[0m in \u001b[0;36m<module>\u001b[1;34m\u001b[0m\n\u001b[1;32m----> 1\u001b[1;33m \u001b[0md1\u001b[0m \u001b[1;33m=\u001b[0m \u001b[0md\u001b[0m\u001b[1;33m[\u001b[0m\u001b[1;33m:\u001b[0m\u001b[1;33m,\u001b[0m\u001b[0mnp\u001b[0m\u001b[1;33m.\u001b[0m\u001b[0margsort\u001b[0m\u001b[1;33m(\u001b[0m\u001b[0md\u001b[0m\u001b[1;33m[\u001b[0m\u001b[1;36m1\u001b[0m\u001b[1;33m]\u001b[0m\u001b[1;33m)\u001b[0m\u001b[1;33m[\u001b[0m\u001b[1;33m:\u001b[0m\u001b[1;33m:\u001b[0m\u001b[1;33m-\u001b[0m\u001b[1;36m1\u001b[0m\u001b[1;33m]\u001b[0m\u001b[1;33m]\u001b[0m\u001b[1;33m\u001b[0m\u001b[1;33m\u001b[0m\u001b[0m\n\u001b[0m\u001b[0;32m      2\u001b[0m \u001b[0md1\u001b[0m\u001b[1;33m\u001b[0m\u001b[1;33m\u001b[0m\u001b[0m\n",
      "\u001b[1;31mNameError\u001b[0m: name 'd' is not defined"
     ]
    }
   ],
   "source": [
    "#내림차순\n",
    "d1 = d[:,np.argsort(d[1])[::-1]]\n",
    "d1"
   ]
  },
  {
   "cell_type": "code",
   "execution_count": 23,
   "metadata": {},
   "outputs": [],
   "source": [
    "#7\n",
    "#import random\n",
    "#for i in range(100):\n",
    "#    e = np.random.randint(1,7)"
   ]
  },
  {
   "cell_type": "code",
   "execution_count": 20,
   "metadata": {},
   "outputs": [
    {
     "output_type": "execute_result",
     "data": {
      "text/plain": [
       "array([5, 6, 2, 1, 6, 5, 4, 6, 6, 6, 1, 5, 2, 6, 2, 2, 5, 6, 3, 3, 1, 4,\n",
       "       2, 1, 3, 4, 5, 6, 1, 6, 2, 3, 6, 2, 6, 2, 3, 3, 5, 6, 3, 4, 2, 3,\n",
       "       3, 1, 3, 5, 6, 4, 4, 2, 2, 2, 3, 6, 4, 4, 5, 4, 2, 5, 2, 2, 5, 4,\n",
       "       6, 4, 4, 4, 3, 2, 4, 3, 6, 3, 3, 1, 5, 4, 2, 4, 2, 5, 3, 4, 2, 3,\n",
       "       6, 3, 6, 3, 4, 5, 6, 2, 2, 6, 1, 6])"
      ]
     },
     "metadata": {},
     "execution_count": 20
    }
   ],
   "source": [
    "np.random.seed(2021)\n",
    "dice = np.random.randint(1,7,100)\n",
    "dice"
   ]
  },
  {
   "cell_type": "code",
   "execution_count": 24,
   "metadata": {},
   "outputs": [
    {
     "output_type": "execute_result",
     "data": {
      "text/plain": [
       "3.7"
      ]
     },
     "metadata": {},
     "execution_count": 24
    }
   ],
   "source": [
    "np.mean(dice)"
   ]
  },
  {
   "cell_type": "code",
   "execution_count": 25,
   "metadata": {},
   "outputs": [
    {
     "output_type": "stream",
     "name": "stdout",
     "text": [
      "10149.0, 10218.0, 10175.0, 10093.0, 10149.0, 10077.0, 10191.0, 10257.0, 10268.0, 10311.0, "
     ]
    }
   ],
   "source": [
    "#8\n",
    "np.random.seed(2021)\n",
    "price = 10000\n",
    "rate = np.random.normal(0,1,10)\n",
    "for i in range(10):\n",
    "    price += np.round(price * rate[i] * 0.01)\n",
    "    print(price, end = \", \")"
   ]
  },
  {
   "cell_type": "code",
   "execution_count": 29,
   "metadata": {},
   "outputs": [],
   "source": [
    "#8\n",
    "np.random.seed(2021)\n",
    "price_list = []\n",
    "rate = np.random.normal(0,1,250)\n",
    "price = 10000\n",
    "for i in range(250):\n",
    "    price += np.round(price * rate[i] * 0.01)\n",
    "    price_list.append(price)\n",
    "price_array = np.array(price_list, int)"
   ]
  },
  {
   "cell_type": "code",
   "execution_count": 31,
   "metadata": {},
   "outputs": [
    {
     "output_type": "stream",
     "name": "stdout",
     "text": [
      "[10149 10218 10175 10093 10149 10077 10191 10257 10268 10311]\n[10149 10218 10175 10093 10149 10077 10191 10257 10268 10311 10324 10237\n 10279 10290 10094 10205 10062 10039  9905  9935  9863 10114 10247 10254\n 10228 10242 10359 10502 10452 10507 10663 10821 10900 10858 10888 10894\n 10780 10763 10462 10500 10525 10575 10597 10694 10543 10672 10614 10710\n 10605 10538 10625 10489 10453 10340 10441 10484 10470 10400 10527 10429\n 10578 10565 10640 10717 10732 10662 10590 10682 10789 10749 10870 10956\n 10764 10677 10526 10441 10524 10709 10701 10746 10763 10757 10699 10795\n 10819 10957 11026 11066 11469 11331 11180 11321 11248 11501 11385 11371\n 11322 11370 11456 11342 11258 11310 11452 11401 11463 11528 11478 11566\n 11622 11520 11441 11493 11410 11246 11488 11494 11568 11444 11472 11515\n 11563 11701 11828 11861 11971 12011 12226 12110 12041 12071 12133 12080\n 12296 12318 12365 12429 12503 12741 12817 12801 12820 12892 12815 12864\n 12784 12804 12623 12865 12996 12966 13026 13063 12909 13106 13260 12941\n 12746 12955 13093 12934 12744 12807 12629 12619 12587 12766 12866 13075\n 13190 13301 13171 13001 13000 12993 13028 13082 13000 12968 13071 12889\n 12984 12976 12928 13003 12836 12945 13034 12858 12732 12539 12405 12449\n 12346 12161 11976 11852 11931 11857 11781 11700 11752 11853 11871 11682\n 11990 11904 11858 11573 11624 11674 11571 11766 11884 11887 11734 11685\n 11713 11807 11785 11918 11779 11793 11709 11713 11647 11695 11876 11908\n 11740 11780 11816 12070 12245 12376 12314 12271 12190 11840 11940 11979]\n"
     ]
    }
   ],
   "source": [
    "print(price_array[:10])\n",
    "print(price_array[:-10])"
   ]
  }
 ]
}