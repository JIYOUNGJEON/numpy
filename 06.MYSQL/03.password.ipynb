{
 "metadata": {
  "language_info": {
   "codemirror_mode": {
    "name": "ipython",
    "version": 3
   },
   "file_extension": ".py",
   "mimetype": "text/x-python",
   "name": "python",
   "nbconvert_exporter": "python",
   "pygments_lexer": "ipython3",
   "version": "3.8.5"
  },
  "orig_nbformat": 2,
  "kernelspec": {
   "name": "python385jvsc74a57bd08c1eae21719a0790335dcb83aad72b63b602cfe5cdb2bda0f60bc11d4f154e4b",
   "display_name": "Python 3.8.5 64-bit ('base': conda)"
  }
 },
 "nbformat": 4,
 "nbformat_minor": 2,
 "cells": [
  {
   "source": [
    "# user table에 패스워드 넣기"
   ],
   "cell_type": "markdown",
   "metadata": {}
  },
  {
   "cell_type": "code",
   "execution_count": 33,
   "metadata": {},
   "outputs": [],
   "source": [
    "import json\n",
    "import pymysql"
   ]
  },
  {
   "cell_type": "code",
   "execution_count": 34,
   "metadata": {},
   "outputs": [],
   "source": [
    "with open('mysql.json','r') as file:\n",
    "    config_str = file.read()\n",
    "config = json.loads(config_str)"
   ]
  },
  {
   "cell_type": "code",
   "execution_count": 35,
   "metadata": {},
   "outputs": [],
   "source": [
    "conn = pymysql.connect(\n",
    "    host = config['host'],\n",
    "    user = config['user'],\n",
    "    password = config['password'],\n",
    "    database = config['database'],\n",
    "    port = config['port']\n",
    ")"
   ]
  },
  {
   "source": [
    "### - 패스워드 암호화"
   ],
   "cell_type": "markdown",
   "metadata": {}
  },
  {
   "cell_type": "code",
   "execution_count": 36,
   "metadata": {},
   "outputs": [],
   "source": [
    "import hashlib\n",
    "import base64"
   ]
  },
  {
   "source": [
    "### - secure hash algorithm(SHA-256)"
   ],
   "cell_type": "markdown",
   "metadata": {}
  },
  {
   "cell_type": "code",
   "execution_count": 37,
   "metadata": {},
   "outputs": [
    {
     "output_type": "execute_result",
     "data": {
      "text/plain": [
       "b'\\x03\\xacgB\\x16\\xf3\\xe1\\\\v\\x1e\\xe1\\xa5\\xe2U\\xf0g\\x956#\\xc8\\xb3\\x88\\xb4E\\x9e\\x13\\xf9x\\xd7\\xc8F\\xf4'"
      ]
     },
     "metadata": {},
     "execution_count": 37
    }
   ],
   "source": [
    "pwd = '1234'\n",
    "pwd_sha256 = hashlib.sha256(pwd.encode())\n",
    "pwd_sha256.digest()"
   ]
  },
  {
   "source": [
    "### -base64로 인코딩"
   ],
   "cell_type": "markdown",
   "metadata": {}
  },
  {
   "cell_type": "code",
   "execution_count": 38,
   "metadata": {},
   "outputs": [
    {
     "output_type": "execute_result",
     "data": {
      "text/plain": [
       "b'A6xnQhbz4Vx2HuGl4lXwZ5U2I8iziLRFnhP5eNfIRvQ='"
      ]
     },
     "metadata": {},
     "execution_count": 38
    }
   ],
   "source": [
    "base64.b64encode(pwd_sha256.digest())"
   ]
  },
  {
   "cell_type": "code",
   "execution_count": 39,
   "metadata": {},
   "outputs": [
    {
     "output_type": "execute_result",
     "data": {
      "text/plain": [
       "'A6xnQhbz4Vx2HuGl4lXwZ5U2I8iziLRFnhP5eNfIRvQ='"
      ]
     },
     "metadata": {},
     "execution_count": 39
    }
   ],
   "source": [
    "hashed_pwd = base64.b64encode(pwd_sha256.digest()).decode('utf-8')\n",
    "hashed_pwd"
   ]
  },
  {
   "cell_type": "code",
   "execution_count": 40,
   "metadata": {},
   "outputs": [
    {
     "output_type": "execute_result",
     "data": {
      "text/plain": [
       "44"
      ]
     },
     "metadata": {},
     "execution_count": 40
    }
   ],
   "source": [
    "len(hashed_pwd)"
   ]
  },
  {
   "cell_type": "code",
   "execution_count": 41,
   "metadata": {},
   "outputs": [],
   "source": [
    "# 패스워드를 생성하는 함수\n",
    "def gen_pwd(pwd):\n",
    "    pwd_sha256 = hashlib.sha256(pwd.encode())\n",
    "    hashed_pwd = base64.b64encode(pwd_sha256.digest()).decode('utf-8')\n",
    "    return hashed_pwd"
   ]
  },
  {
   "source": [
    "### - users table을 읽어서 pwd열에 패스워드 채우기"
   ],
   "cell_type": "markdown",
   "metadata": {}
  },
  {
   "cell_type": "code",
   "execution_count": 42,
   "metadata": {},
   "outputs": [
    {
     "output_type": "execute_result",
     "data": {
      "text/plain": [
       "(('admin',),\n",
       " ('djy',),\n",
       " ('eskim',),\n",
       " ('gdhong',),\n",
       " ('jbpark',),\n",
       " ('vincenzo',),\n",
       " ('wjlee',))"
      ]
     },
     "metadata": {},
     "execution_count": 42
    }
   ],
   "source": [
    "sql = 'SELECT uid FROM users;'\n",
    "cur = conn.cursor()\n",
    "cur.execute(sql)\n",
    "results = cur.fetchall()\n",
    "results"
   ]
  },
  {
   "cell_type": "code",
   "execution_count": 43,
   "metadata": {},
   "outputs": [],
   "source": [
    "sql = 'UPDATE users SET pwd = %s where uid = %s;'\n",
    "cur = conn.cursor()\n",
    "for row in results:\n",
    "    uid = row[0]\n",
    "    pwd = gen_pwd(uid+'12')\n",
    "    cur.execute(sql,(pwd,uid))\n",
    "conn.commit()"
   ]
  },
  {
   "source": [
    "### - 로그인"
   ],
   "cell_type": "markdown",
   "metadata": {}
  },
  {
   "source": [
    "### - 1) uid: ok/ pwd : ok"
   ],
   "cell_type": "markdown",
   "metadata": {}
  },
  {
   "cell_type": "code",
   "execution_count": 45,
   "metadata": {},
   "outputs": [
    {
     "output_type": "execute_result",
     "data": {
      "text/plain": [
       "'EUZjqxlO3LP2HUCYg85K5sPC+YVBlAlaU4UBHRW+y+8='"
      ]
     },
     "metadata": {},
     "execution_count": 45
    }
   ],
   "source": [
    "uid,pwd = 'admin','admin12'\n",
    "sql = \"SELECT uid, pwd FROM users where uid= %s;\"\n",
    "cur=conn.cursor()\n",
    "cur.execute(sql,(uid,))\n",
    "result = cur.fetchone()\n",
    "db_pwd= result[1]\n",
    "db_pwd"
   ]
  },
  {
   "cell_type": "code",
   "execution_count": 46,
   "metadata": {},
   "outputs": [
    {
     "output_type": "execute_result",
     "data": {
      "text/plain": [
       "'EUZjqxlO3LP2HUCYg85K5sPC+YVBlAlaU4UBHRW+y+8='"
      ]
     },
     "metadata": {},
     "execution_count": 46
    }
   ],
   "source": [
    "hashed_pwd = gen_pwd(pwd)\n",
    "hashed_pwd"
   ]
  },
  {
   "source": [
    "### - 2) uid: ok/ pwd : bad"
   ],
   "cell_type": "markdown",
   "metadata": {}
  },
  {
   "cell_type": "code",
   "execution_count": 47,
   "metadata": {},
   "outputs": [
    {
     "output_type": "execute_result",
     "data": {
      "text/plain": [
       "'A6xnQhbz4Vx2HuGl4lXwZ5U2I8iziLRFnhP5eNfIRvQ='"
      ]
     },
     "metadata": {},
     "execution_count": 47
    }
   ],
   "source": [
    "pwd = '1234'\n",
    "hashed_pwd = gen_pwd(pwd)\n",
    "hashed_pwd"
   ]
  },
  {
   "source": [
    "### - 3) uid: bad/ pwd : bad"
   ],
   "cell_type": "markdown",
   "metadata": {}
  },
  {
   "cell_type": "code",
   "execution_count": 49,
   "metadata": {},
   "outputs": [],
   "source": [
    "uid = 'fool'"
   ]
  },
  {
   "cell_type": "code",
   "execution_count": 50,
   "metadata": {},
   "outputs": [
    {
     "output_type": "execute_result",
     "data": {
      "text/plain": [
       "0"
      ]
     },
     "metadata": {},
     "execution_count": 50
    }
   ],
   "source": [
    "sql = \"SELECT uid, pwd FROM users where uid= %s;\"\n",
    "cur=conn.cursor()\n",
    "cur.execute(sql,(uid,))"
   ]
  },
  {
   "cell_type": "code",
   "execution_count": 52,
   "metadata": {},
   "outputs": [],
   "source": [
    "result = cur.fetchone()\n",
    "result"
   ]
  },
  {
   "source": [
    "### - 1,2,3을 하나로 합치기"
   ],
   "cell_type": "markdown",
   "metadata": {}
  },
  {
   "cell_type": "code",
   "execution_count": null,
   "metadata": {},
   "outputs": [],
   "source": [
    "uid, pwd = 'admin','admin12'"
   ]
  },
  {
   "cell_type": "code",
   "execution_count": 55,
   "metadata": {},
   "outputs": [
    {
     "output_type": "stream",
     "name": "stdout",
     "text": [
      "bad uid\n"
     ]
    }
   ],
   "source": [
    "sql = \"SELECT uid, pwd FROM users where uid= %s and is_deleted = 0;\"\n",
    "cur=conn.cursor()\n",
    "cur.execute(sql,(uid,))\n",
    "result = cur.fetchone()\n",
    "if result:\n",
    "    db_pwd = result[1]\n",
    "    hashed_pwd = gen_pwd(pwd)\n",
    "    if db_pwd == hased_pwd:\n",
    "        print('correct')\n",
    "    else:\n",
    "        print('incorrect password')\n",
    "else:\n",
    "    print('bad uid')"
   ]
  },
  {
   "cell_type": "code",
   "execution_count": 56,
   "metadata": {},
   "outputs": [],
   "source": [
    "cur.close()\n",
    "conn.close()"
   ]
  },
  {
   "cell_type": "code",
   "execution_count": 58,
   "metadata": {},
   "outputs": [
    {
     "output_type": "stream",
     "name": "stdout",
     "text": [
      "false\n"
     ]
    }
   ],
   "source": [
    "x = []\n",
    "if x:\n",
    "    print('true')\n",
    "else:\n",
    "    print('false')\n",
    "#비어있는 리스트는 false"
   ]
  },
  {
   "cell_type": "code",
   "execution_count": 60,
   "metadata": {},
   "outputs": [
    {
     "output_type": "stream",
     "name": "stdout",
     "text": [
      "false\n"
     ]
    }
   ],
   "source": [
    "x = ''\n",
    "if x:\n",
    "    print('true')\n",
    "else:\n",
    "    print('false')\n",
    "#비어있는 스트링도 false"
   ]
  }
 ]
}